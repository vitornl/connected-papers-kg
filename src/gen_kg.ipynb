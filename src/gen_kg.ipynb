{
 "cells": [
  {
   "cell_type": "code",
   "execution_count": 4,
   "metadata": {},
   "outputs": [],
   "source": [
    "import os\n",
    "import jellyfish\n",
    "import rdflib\n",
    "import owlready2 as owl2"
   ]
  },
  {
   "cell_type": "markdown",
   "metadata": {},
   "source": [
    "# Setup"
   ]
  },
  {
   "cell_type": "code",
   "execution_count": 6,
   "metadata": {},
   "outputs": [],
   "source": [
    "DATAPATH = '../data'\n",
    "KG_DP = f'{DATAPATH}/knowledge-graph'\n",
    "os.makedirs(KG_DP, exist_ok=True)\n",
    "\n",
    "\n",
    "SCRAPED_DP = f'{DATAPATH}/scrapped'"
   ]
  },
  {
   "cell_type": "markdown",
   "metadata": {},
   "source": [
    "# T-Box"
   ]
  },
  {
   "cell_type": "markdown",
   "metadata": {},
   "source": [
    "## Create ontology"
   ]
  },
  {
   "cell_type": "code",
   "execution_count": 7,
   "metadata": {},
   "outputs": [
    {
     "data": {
      "text/plain": [
       "<Graph identifier=Nf02e3105afcc4e21bfd158a9c9eb45a3 (<class 'owlready2.rdflib_store.TripleLiteRDFlibGraph'>)>"
      ]
     },
     "execution_count": 7,
     "metadata": {},
     "output_type": "execute_result"
    }
   ],
   "source": [
    "ns_owl = rdflib.Namespace('http://www.w3.org/2002/07/owl#')\n",
    "\n",
    "exaignn_ontology = owl2.get_ontology('http://kb.melll.ic.uff.br/exaignn')\n",
    "\n",
    "with exaignn_ontology:\n",
    "    class Paper(owl2.Thing):\n",
    "        label   = 'Paper'\n",
    "\n",
    "    class Author(owl2.Thing):\n",
    "        label   = 'Author'\n",
    "\n",
    "    class reference(Paper >> Paper): pass\n",
    "    \n",
    "    class isReferredBy(Paper >> Paper):\n",
    "        inverse_property    = reference\n",
    "\n",
    "    class hasAuthor(Paper >> Author): pass\n",
    "\n",
    "    class isAuthorOf(Author >> Paper):\n",
    "        inverse_property    = hasAuthor\n",
    "\n",
    "    class PaperAuthors(owl2.DatatypeProperty):\n",
    "        label   = 'PaperAuthors'\n",
    "        domain  = [Paper]\n",
    "        range   = [str]\n",
    "            \n",
    "    class PaperAbstract(owl2.DatatypeProperty):\n",
    "        label   = 'PaperAbstract'\n",
    "        domain  = [Paper]\n",
    "        range   = [str]\n",
    "\n",
    "rdflib_graph = owl2.default_world.as_rdflib_graph()\n",
    "rdflib_graph.bind('owl', ns_owl)"
   ]
  },
  {
   "cell_type": "markdown",
   "metadata": {},
   "source": [
    "## Save ontology"
   ]
  },
  {
   "cell_type": "code",
   "execution_count": 11,
   "metadata": {},
   "outputs": [
    {
     "data": {
      "text/plain": [
       "<Graph identifier=Nf02e3105afcc4e21bfd158a9c9eb45a3 (<class 'owlready2.rdflib_store.TripleLiteRDFlibGraph'>)>"
      ]
     },
     "execution_count": 11,
     "metadata": {},
     "output_type": "execute_result"
    }
   ],
   "source": [
    "exaignn_ontology.save(file = f'{KG_DP}/exaignn_tbox.owl', format = 'rdfxml')\n",
    "exaignn_ontology.save(file = f'{KG_DP}/exaignn_tbox.triples', format = 'ntriples')\n",
    "rdflib_graph.serialize(f'{KG_DP}/exaignn_tbox.ttl', format='turtle')"
   ]
  },
  {
   "cell_type": "markdown",
   "metadata": {},
   "source": [
    "# Create ontology A-Box"
   ]
  },
  {
   "cell_type": "markdown",
   "metadata": {},
   "source": [
    "## Data transformations"
   ]
  },
  {
   "cell_type": "code",
   "execution_count": 8,
   "metadata": {},
   "outputs": [],
   "source": [
    "def find_paper_id(paper_name, paper_name_id_map):\n",
    "\n",
    "    for target_name in paper_name_id_map.keys():\n",
    "        if jellyfish.jaro_distance(paper_name, target_name) >= 0.8:\n",
    "            return paper_name_id_map[target_name]\n",
    "    \n",
    "    return None\n",
    "\n",
    "def decode_details(path):\n",
    "    \n",
    "    with open(path, 'r') as f:\n",
    "        lines = list(f.readlines())\n",
    "    \n",
    "    paper_id = path.split('/')[-1].split('.')[0]\n",
    "    paper_name = lines[0]\n",
    "    paper_authors = lines[1] or None\n",
    "    # paper_venue = lines[2]\n",
    "    # paper_numbers = lines[3]\n",
    "    # paper_url = lines[4]\n",
    "    paper_abstract = lines[5] if len(lines) == 6 else None\n",
    "\n",
    "    return paper_id, paper_name, paper_authors, paper_abstract\n",
    "\n",
    "def decode_related(path, paper_name_id_map):\n",
    "\n",
    "    paper_id = path.split('/')[-1].split('.')[0]\n",
    "\n",
    "    related = []\n",
    "    with open(path, 'r') as f:\n",
    "        for line in f.readlines():\n",
    "            if line == '':\n",
    "                continue\n",
    "                \n",
    "            paper_name = line.split('\\t')[0]\n",
    "            related.append(find_paper_id(paper_name, paper_name_id_map))\n",
    "\n",
    "    return paper_id, related"
   ]
  },
  {
   "cell_type": "code",
   "execution_count": 13,
   "metadata": {},
   "outputs": [],
   "source": [
    "ontology = owl2.get_ontology(f'{KG_DP}/exaignn_tbox.owl').load()\n",
    "\n",
    "paper_id_name_map = {}\n",
    "paper_name_id_map = {}\n",
    "paper_id_obj_map = {}\n",
    "\n",
    "details_path = f'{SCRAPED_DP}/details'\n",
    "for paper in os.listdir(details_path):\n",
    "\n",
    "    paper_details_path = f'{details_path}/{paper}'\n",
    "    paper_id, paper_name, paper_authors, paper_abstract = decode_details(paper_details_path)\n",
    "\n",
    "    paper_id_name_map[paper_id] = paper_name\n",
    "    paper_name_id_map[paper_name] = paper_id\n",
    "    \n",
    "    paper = ontology.Paper(paper_id)\n",
    "    paper.label = [paper_name]\n",
    "\n",
    "    if paper_authors is not None:\n",
    "        paper.PaperAuthors = [paper_authors]\n",
    "\n",
    "    if paper_abstract is not None:\n",
    "        paper.PaperAbstract = [paper_abstract]\n",
    "        \n",
    "    paper_id_obj_map[paper_id] = paper\n",
    "\n",
    "derivative_path = f'{SCRAPED_DP}/derivative'\n",
    "for paper in os.listdir(derivative_path):\n",
    "\n",
    "    derivative_paper_path = f'{derivative_path}/{paper}'\n",
    "    paper_id, related = decode_related(derivative_paper_path, paper_name_id_map)\n",
    "\n",
    "    related = list(filter(lambda x: x is not None, related))\n",
    "\n",
    "    related_objs = [paper_id_obj_map[rp_id] for rp_id in related]\n",
    "\n",
    "    paper_id_obj_map[paper_id].isReferredBy = related_objs\n",
    "\n",
    "prior_path = f'{SCRAPED_DP}/prior'\n",
    "\n",
    "for paper in os.listdir(prior_path):\n",
    "    prior_paper_path = f'{prior_path}/{paper}'\n",
    "    paper_id, related = decode_related(prior_paper_path, paper_name_id_map)\n",
    "\n",
    "    related = list(filter(lambda x: x is not None, related))\n",
    "\n",
    "    related_objs = [paper_id_obj_map[rp_id] for rp_id in related]\n",
    "\n",
    "    paper_id_obj_map[paper_id].reference = related_objs"
   ]
  },
  {
   "cell_type": "markdown",
   "metadata": {},
   "source": [
    "## Save ontology"
   ]
  },
  {
   "cell_type": "code",
   "execution_count": 15,
   "metadata": {},
   "outputs": [
    {
     "data": {
      "text/plain": [
       "<Graph identifier=Nf02e3105afcc4e21bfd158a9c9eb45a3 (<class 'owlready2.rdflib_store.TripleLiteRDFlibGraph'>)>"
      ]
     },
     "execution_count": 15,
     "metadata": {},
     "output_type": "execute_result"
    }
   ],
   "source": [
    "rdflib_graph = owl2.default_world.as_rdflib_graph()\n",
    "\n",
    "ns1 = rdflib.Namespace('http://www.w3.org/2002/07/owl#')\n",
    "ns2 = rdflib.Namespace('http://kb.melll.ic.uff.br/exaignn#')\n",
    "\n",
    "rdflib_graph.bind('owl', ns1)\n",
    "rdflib_graph.bind('exaignn', ns2)\n",
    "\n",
    "ontology.save(file = f'{KG_DP}/exaignn_abox.owl', format = 'rdfxml')\n",
    "ontology.save(file = f'{KG_DP}/exaignn_abox.triples', format = 'ntriples')\n",
    "rdflib_graph.serialize(f'{KG_DP}/exaignn_abox.ttl', format='turtle')"
   ]
  },
  {
   "cell_type": "code",
   "execution_count": null,
   "metadata": {},
   "outputs": [],
   "source": []
  }
 ],
 "metadata": {
  "interpreter": {
   "hash": "b0b8d6ee27aa15ca22644a714a6d3194c20958490e5c3299fd1e78c1487c17e8"
  },
  "kernelspec": {
   "display_name": "Python 3.8.13 ('cpkg')",
   "language": "python",
   "name": "python3"
  },
  "language_info": {
   "codemirror_mode": {
    "name": "ipython",
    "version": 3
   },
   "file_extension": ".py",
   "mimetype": "text/x-python",
   "name": "python",
   "nbconvert_exporter": "python",
   "pygments_lexer": "ipython3",
   "version": "3.8.13"
  },
  "orig_nbformat": 4
 },
 "nbformat": 4,
 "nbformat_minor": 2
}
